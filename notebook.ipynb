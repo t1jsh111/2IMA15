{
 "cells": [
  {
   "cell_type": "code",
   "execution_count": 3,
   "metadata": {
    "scrolled": true
   },
   "outputs": [
    {
     "name": "stdout",
     "output_type": "stream",
     "text": [
      "[1, 1.5, 3, 4]\n",
      "[Edge: [ (1, 5), (3, 5)], Edge: [ (3, 5), (4, 0)], Edge: [ (1.5, 0), (4, 0)], Edge: [ (1, 5), (1.5, 0)], Edge: [ (1, 5), (4, 0)]]\n"
     ]
    },
    {
     "data": {
      "application/vnd.jupyter.widget-view+json": {
       "model_id": "8e864fdbd3a84ff8b69d47c6abcf7e56",
       "version_major": 2,
       "version_minor": 0
      },
      "text/plain": [
       "Canvas(toolbar=Toolbar(toolitems=[('Home', 'Reset original view', 'home', 'home'), ('Back', 'Back to previous …"
      ]
     },
     "metadata": {},
     "output_type": "display_data"
    }
   ],
   "source": [
    "%matplotlib widget\n",
    "import backend.dcel as dcel\n",
    "import backend.slab_decomposition as sd\n",
    "import backend.visualization as vs\n",
    "points = [(1, 5), (3, 5), (4, 0), (1.5, 0)]\n",
    "\n",
    "segments = [\n",
    "    [(1, 5), (3, 5)],\n",
    "    [(3, 5), (4, 0)],\n",
    "    [(4, 0), (1.5, 0)],\n",
    "    [(1.5, 0), (1, 5)],\n",
    "    [(1, 5), (4, 0)],\n",
    "]\n",
    "\n",
    "myDCEL = dcel.Dcel()\n",
    "myDCEL.build_dcel(points, segments)\n",
    "\n",
    "slab_points = [x for x, y in points]\n",
    "slab_points.sort()\n",
    "print(slab_points)\n",
    "print(myDCEL.edges)\n",
    "\n",
    "begin_x = 3\n",
    "#slab = Slab(begin_x, slab_points[3], myDCEL.edges)\n",
    "#print(\"Intersecting edges\", slab.intersecting_edges)\n",
    "# for end_x in slab_points:\n",
    "\n",
    "\n",
    "#slab = Slab(points[0][0], points[0])\n",
    "\n",
    "myDCEL.show_dcel()\n",
    "#slab_decomposition = sd.SlabDecomposition(myDCEL)\n",
    "#slab_decomposition.show_slab_decomposition()\n",
    "#vs.plot_interactive_graph(myDCEL)"
   ]
  },
  {
   "cell_type": "code",
   "execution_count": 2,
   "metadata": {},
   "outputs": [
    {
     "name": "stdout",
     "output_type": "stream",
     "text": [
      "[begin_x: 1 end_x: 1.5, begin_x: 1.5 end_x: 3, begin_x: 3 end_x: 4]\n",
      "Slab with begin_x 1  and end_x 1.5\n",
      "Right edge  E(o:[1, 5], d:[1.5, 0])  at height  (5.0, 0.0) with face  f2 above it\n",
      "Right edge  E(o:[1, 5], d:[4, 0])  at height  (5.0, 4.166666666666667) with face  f3 above it\n",
      "Right edge  E(o:[1, 5], d:[3, 5])  at height  (5.0, 5.0) with face  f1 above it\n",
      "------------\n",
      "Slab with begin_x 1.5  and end_x 3\n",
      "Right edge  E(o:[1.5, 0], d:[4, 0])  at height  (0.0, 0.0) with face  f2 above it\n",
      "Right edge  E(o:[1, 5], d:[4, 0])  at height  (4.166666666666667, 1.6666666666666665) with face  f3 above it\n",
      "Right edge  E(o:[1, 5], d:[3, 5])  at height  (5.0, 5.0) with face  f1 above it\n",
      "------------\n",
      "Slab with begin_x 3  and end_x 4\n",
      "Right edge  E(o:[1.5, 0], d:[4, 0])  at height  (0.0, 0.0) with face  f2 above it\n",
      "Right edge  E(o:[1, 5], d:[4, 0])  at height  (1.6666666666666665, 0.0) with face  f3 above it\n",
      "Right edge  E(o:[3, 5], d:[4, 0])  at height  (5.0, 0.0) with face  f1 above it\n",
      "------------\n"
     ]
    }
   ],
   "source": [
    "slab_decomposition = sd.SlabDecomposition(myDCEL)\n",
    "print(slab_decomposition.slabs)\n",
    "for slab in slab_decomposition.slabs:\n",
    "    print(\"Slab with begin_x\", slab.begin_x, \" and end_x\", slab.end_x)\n",
    "    # print(slab.intersecting_edges)\n",
    "    for edge in slab.intersecting_edges:\n",
    "        print(\"Right edge \", edge[1].right_arrow, \" at height \", edge[0], \"with face \", edge[1].right_arrow.incident_face.name, \"above it\")\n",
    "    print(\"------------\")"
   ]
  },
  {
   "cell_type": "code",
   "execution_count": 2,
   "metadata": {
    "pycharm": {
     "name": "#%%\n"
    }
   },
   "outputs": [],
   "source": []
  },
  {
   "cell_type": "code",
   "execution_count": 2,
   "metadata": {
    "pycharm": {
     "name": "#%%\n"
    }
   },
   "outputs": [],
   "source": []
  },
  {
   "cell_type": "code",
   "execution_count": 2,
   "metadata": {
    "pycharm": {
     "name": "#%%\n"
    }
   },
   "outputs": [],
   "source": []
  },
  {
   "cell_type": "code",
   "execution_count": 2,
   "metadata": {
    "pycharm": {
     "name": "#%%\n"
    }
   },
   "outputs": [],
   "source": []
  },
  {
   "cell_type": "code",
   "execution_count": 2,
   "metadata": {
    "pycharm": {
     "name": "#%%\n"
    }
   },
   "outputs": [],
   "source": []
  },
  {
   "cell_type": "code",
   "execution_count": 2,
   "metadata": {},
   "outputs": [],
   "source": []
  },
  {
   "cell_type": "code",
   "execution_count": 2,
   "metadata": {
    "pycharm": {
     "name": "#%%\n"
    }
   },
   "outputs": [],
   "source": []
  },
  {
   "cell_type": "code",
   "execution_count": 2,
   "metadata": {
    "pycharm": {
     "name": "#%%\n"
    }
   },
   "outputs": [],
   "source": []
  },
  {
   "cell_type": "code",
   "execution_count": 2,
   "metadata": {
    "pycharm": {
     "name": "#%%\n"
    }
   },
   "outputs": [],
   "source": []
  },
  {
   "cell_type": "code",
   "execution_count": 2,
   "metadata": {
    "pycharm": {
     "name": "#%%\n"
    }
   },
   "outputs": [],
   "source": []
  },
  {
   "cell_type": "code",
   "execution_count": 2,
   "metadata": {
    "pycharm": {
     "name": "#%%\n"
    }
   },
   "outputs": [],
   "source": []
  },
  {
   "cell_type": "code",
   "execution_count": 2,
   "metadata": {
    "pycharm": {
     "name": "#%%\n"
    }
   },
   "outputs": [],
   "source": []
  },
  {
   "cell_type": "code",
   "execution_count": 2,
   "metadata": {
    "pycharm": {
     "name": "#%%\n"
    }
   },
   "outputs": [],
   "source": []
  },
  {
   "cell_type": "code",
   "execution_count": 2,
   "metadata": {
    "pycharm": {
     "name": "#%%\n"
    }
   },
   "outputs": [],
   "source": []
  },
  {
   "cell_type": "code",
   "execution_count": 2,
   "metadata": {},
   "outputs": [],
   "source": []
  },
  {
   "cell_type": "code",
   "execution_count": 2,
   "metadata": {},
   "outputs": [],
   "source": []
  },
  {
   "cell_type": "code",
   "execution_count": 2,
   "metadata": {},
   "outputs": [],
   "source": []
  },
  {
   "cell_type": "code",
   "execution_count": 2,
   "metadata": {},
   "outputs": [],
   "source": []
  },
  {
   "cell_type": "code",
   "execution_count": 2,
   "metadata": {},
   "outputs": [],
   "source": []
  },
  {
   "cell_type": "code",
   "execution_count": 2,
   "metadata": {},
   "outputs": [],
   "source": []
  },
  {
   "cell_type": "code",
   "execution_count": 2,
   "metadata": {
    "pycharm": {
     "name": "#%%\n"
    }
   },
   "outputs": [],
   "source": []
  },
  {
   "cell_type": "code",
   "execution_count": 2,
   "metadata": {
    "pycharm": {
     "name": "#%%\n"
    }
   },
   "outputs": [],
   "source": []
  },
  {
   "cell_type": "code",
   "execution_count": 2,
   "metadata": {
    "pycharm": {
     "name": "#%%\n"
    }
   },
   "outputs": [],
   "source": []
  },
  {
   "cell_type": "code",
   "execution_count": 2,
   "metadata": {},
   "outputs": [],
   "source": []
  },
  {
   "cell_type": "code",
   "execution_count": 2,
   "metadata": {},
   "outputs": [],
   "source": []
  },
  {
   "cell_type": "code",
   "execution_count": 2,
   "metadata": {
    "pycharm": {
     "name": "#%%\n"
    }
   },
   "outputs": [],
   "source": []
  },
  {
   "cell_type": "code",
   "execution_count": 2,
   "metadata": {},
   "outputs": [],
   "source": []
  },
  {
   "cell_type": "code",
   "execution_count": 2,
   "metadata": {},
   "outputs": [],
   "source": []
  },
  {
   "cell_type": "code",
   "execution_count": 2,
   "metadata": {},
   "outputs": [],
   "source": []
  }
 ],
 "metadata": {
  "kernelspec": {
   "display_name": "Python 3",
   "language": "python",
   "name": "python3"
  },
  "language_info": {
   "codemirror_mode": {
    "name": "ipython",
    "version": 3
   },
   "file_extension": ".py",
   "mimetype": "text/x-python",
   "name": "python",
   "nbconvert_exporter": "python",
   "pygments_lexer": "ipython3",
   "version": "3.7.2"
  }
 },
 "nbformat": 4,
 "nbformat_minor": 1
}